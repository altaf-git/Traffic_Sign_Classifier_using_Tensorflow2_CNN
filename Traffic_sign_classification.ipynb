{
 "cells": [
  {
   "cell_type": "code",
   "execution_count": 1,
   "metadata": {},
   "outputs": [],
   "source": [
    "import cv2\n",
    "import glob\n",
    "import numpy as np\n",
    "import pandas as pd\n",
    "import pickle\n",
    "import tensorflow as tf\n",
    "from PIL import Image\n",
    "import os"
   ]
  },
  {
   "cell_type": "code",
   "execution_count": 2,
   "metadata": {},
   "outputs": [
    {
     "name": "stdout",
     "output_type": "stream",
     "text": [
      "train/0/\n",
      "train/1/\n",
      "train/2/\n",
      "train/3/\n",
      "train/4/\n",
      "train/5/\n",
      "train/6/\n",
      "train/7/\n",
      "train/8/\n",
      "train/9/\n",
      "train/10/\n",
      "train/11/\n",
      "train/12/\n",
      "train/13/\n",
      "train/14/\n",
      "train/15/\n",
      "train/16/\n",
      "train/17/\n",
      "train/18/\n",
      "train/19/\n",
      "train/20/\n",
      "train/21/\n",
      "train/22/\n",
      "train/23/\n",
      "train/24/\n",
      "train/25/\n",
      "train/26/\n",
      "train/27/\n",
      "train/28/\n",
      "train/29/\n",
      "train/30/\n",
      "train/31/\n",
      "train/32/\n",
      "train/33/\n",
      "train/34/\n",
      "train/35/\n",
      "train/36/\n",
      "train/37/\n",
      "train/38/\n",
      "train/39/\n",
      "train/40/\n",
      "train/41/\n",
      "train/42/\n"
     ]
    }
   ],
   "source": [
    "data=[]\n",
    "labels=[]\n",
    "\n",
    "height = 32\n",
    "width = 32\n",
    "channels = 3\n",
    "classes = 43\n",
    "n_inputs = height * width*channels\n",
    "\n",
    "for i in range(classes) :\n",
    "    path = \"train/{0}/\".format(i)\n",
    "    print(path)\n",
    "    Class=os.listdir(path)\n",
    "    for a in Class:\n",
    "        try:\n",
    "            image=cv2.imread(path+a)\n",
    "            image_from_array = Image.fromarray(image, 'RGB')\n",
    "            size_image = image_from_array.resize((height, width))\n",
    "            data.append(np.array(size_image))\n",
    "            labels.append(i)\n",
    "        except AttributeError:\n",
    "            print(\" \")\n",
    "            \n",
    "trainx=np.array(data)\n",
    "trainy=np.array(labels)\n",
    "\n",
    "#Randomize the order of the input images\n",
    "s=np.arange(trainx.shape[0])\n",
    "np.random.seed(43)\n",
    "np.random.shuffle(s)\n",
    "trainx=trainx[s]\n",
    "trainy=trainy[s]"
   ]
  },
  {
   "cell_type": "code",
   "execution_count": 3,
   "metadata": {},
   "outputs": [
    {
     "data": {
      "text/plain": [
       "(39209, 32, 32, 3)"
      ]
     },
     "execution_count": 3,
     "metadata": {},
     "output_type": "execute_result"
    }
   ],
   "source": [
    "trainx.shape"
   ]
  },
  {
   "cell_type": "code",
   "execution_count": 4,
   "metadata": {},
   "outputs": [],
   "source": [
    "#Spliting my Datasets for Validation into 80-20 ratio and normalizing them\n",
    "(X_train,X_val)=trainx[(int)(0.2*len(trainy)):],trainx[:(int)(0.2*len(trainy))]\n",
    "X_train=X_train.astype('float32')/255\n",
    "x_val=X_val.astype('float32')/255\n",
    "(y_train,y_val)=trainy[(int)(0.2*len(trainy)):],trainy[:(int)(0.2*len(trainy))]\n"
   ]
  },
  {
   "cell_type": "code",
   "execution_count": 5,
   "metadata": {},
   "outputs": [],
   "source": [
    "#Converting it into one hot encoding\n",
    "from tensorflow.keras.utils import to_categorical\n",
    "y_train=to_categorical(y_train,43)\n",
    "y_val=to_categorical(y_val,43)"
   ]
  },
  {
   "cell_type": "code",
   "execution_count": 6,
   "metadata": {},
   "outputs": [
    {
     "name": "stdout",
     "output_type": "stream",
     "text": [
      "There are 31368 training examples \n",
      "There are 7841 validation examples\n",
      "Image data shape is (32, 32, 3)\n"
     ]
    }
   ],
   "source": [
    "n_train=X_train.shape[0]\n",
    "n_validation=X_val.shape[0]\n",
    "image_shape=X_train[0].shape\n",
    "print(\"There are {} training examples \".format(n_train))\n",
    "print(\"There are {} validation examples\".format(n_validation))\n",
    "print(\"Image data shape is {}\".format(image_shape))\n",
    "\n"
   ]
  },
  {
   "cell_type": "code",
   "execution_count": 7,
   "metadata": {},
   "outputs": [],
   "source": [
    "#Creating the CNN Model\n",
    "from tensorflow.keras import datasets,layers,models\n",
    "model=models.Sequential()\n",
    "model.add(layers.Conv2D(filters=32,kernel_size=(5,5),activation='relu',input_shape=X_train.shape[1:]))\n",
    "model.add(layers.Conv2D(filters=32,kernel_size=(5,5),activation='relu'))\n",
    "model.add(layers.MaxPool2D(pool_size=(2,2)))\n",
    "model.add(layers.Dropout(rate=0.25))\n",
    "model.add(layers.Conv2D(filters=64,kernel_size=(3,3),activation='relu'))\n",
    "model.add(layers.Conv2D(filters=64,kernel_size=(3,3),activation='relu'))\n",
    "model.add(layers.MaxPool2D(pool_size=(2,2)))\n",
    "model.add(layers.Dropout(rate=0.25))\n",
    "model.add(layers.Flatten())\n",
    "model.add(layers.Dense(256,activation='relu'))\n",
    "model.add(layers.Dropout(rate=0.5))\n",
    "model.add(layers.Dense(43,activation='softmax'))\n",
    "\n",
    "          \n"
   ]
  },
  {
   "cell_type": "code",
   "execution_count": 8,
   "metadata": {},
   "outputs": [],
   "source": [
    "#Compile the Model\n",
    "model.compile(\n",
    "    loss='categorical_crossentropy',\n",
    "    optimizer='adam',\n",
    "    metrics=['accuracy']\n",
    ")"
   ]
  },
  {
   "cell_type": "code",
   "execution_count": 9,
   "metadata": {},
   "outputs": [
    {
     "name": "stdout",
     "output_type": "stream",
     "text": [
      "Train on 31368 samples, validate on 7841 samples\n",
      "Epoch 1/9\n",
      "31368/31368 [==============================] - 89s 3ms/sample - loss: 1.2239 - accuracy: 0.6520 - val_loss: 7.3732 - val_accuracy: 0.9461\n",
      "Epoch 2/9\n",
      "31368/31368 [==============================] - 90s 3ms/sample - loss: 0.2669 - accuracy: 0.9175 - val_loss: 5.7584 - val_accuracy: 0.9559\n",
      "Epoch 3/9\n",
      "31368/31368 [==============================] - 90s 3ms/sample - loss: 0.1686 - accuracy: 0.9483 - val_loss: 4.7527 - val_accuracy: 0.9674\n",
      "Epoch 4/9\n",
      "31368/31368 [==============================] - 91s 3ms/sample - loss: 0.1284 - accuracy: 0.9605 - val_loss: 6.1150 - val_accuracy: 0.9587\n",
      "Epoch 5/9\n",
      "31368/31368 [==============================] - 88s 3ms/sample - loss: 0.1150 - accuracy: 0.9649 - val_loss: 3.2034 - val_accuracy: 0.9809\n",
      "Epoch 6/9\n",
      "31368/31368 [==============================] - 89s 3ms/sample - loss: 0.0949 - accuracy: 0.9715 - val_loss: 3.0295 - val_accuracy: 0.9749\n",
      "Epoch 7/9\n",
      "31368/31368 [==============================] - 90s 3ms/sample - loss: 0.0868 - accuracy: 0.9736 - val_loss: 4.4896 - val_accuracy: 0.9640\n",
      "Epoch 8/9\n",
      "31368/31368 [==============================] - 91s 3ms/sample - loss: 0.0745 - accuracy: 0.9768 - val_loss: 3.5656 - val_accuracy: 0.9833\n",
      "Epoch 9/9\n",
      "31368/31368 [==============================] - 93s 3ms/sample - loss: 0.0704 - accuracy: 0.9783 - val_loss: 4.6256 - val_accuracy: 0.9815\n"
     ]
    }
   ],
   "source": [
    "epochs=9\n",
    "history=model.fit(X_train,y_train,batch_size=32,epochs=epochs,validation_data=(X_val,y_val))\n"
   ]
  },
  {
   "cell_type": "code",
   "execution_count": 10,
   "metadata": {},
   "outputs": [
    {
     "data": {
      "text/plain": [
       "<Figure size 640x480 with 1 Axes>"
      ]
     },
     "metadata": {},
     "output_type": "display_data"
    },
    {
     "data": {
      "text/plain": [
       "<Figure size 640x480 with 1 Axes>"
      ]
     },
     "metadata": {},
     "output_type": "display_data"
    }
   ],
   "source": [
    "import matplotlib.pyplot as plt\n",
    "plt.plot(history.history['accuracy'])\n",
    "plt.plot(history.history['val_accuracy'])\n",
    "plt.title('model accuracy')\n",
    "plt.ylabel('accuracy')\n",
    "plt.xlabel('epoch')\n",
    "plt.legend(['train', 'test'], loc='upper left')\n",
    "plt.show()\n",
    "plt.plot(history.history['loss'])\n",
    "plt.plot(history.history['val_loss'])\n",
    "plt.title('model loss')\n",
    "plt.ylabel('loss')\n",
    "plt.xlabel('epoch')\n",
    "plt.legend(['train', 'test'], loc='upper left')\n",
    "plt.show()"
   ]
  },
  {
   "cell_type": "code",
   "execution_count": 13,
   "metadata": {},
   "outputs": [
    {
     "name": "stderr",
     "output_type": "stream",
     "text": [
      "/home/altaf/anaconda3/lib/python3.7/site-packages/ipykernel_launcher.py:2: FutureWarning: Method .as_matrix will be removed in a future version. Use .values instead.\n",
      "  \n"
     ]
    }
   ],
   "source": [
    "y_test=pd.read_csv('Test.csv')\n",
    "labels=y_test['Path'].as_matrix()\n",
    "y_test=y_test['ClassId'].values\n",
    "data=[]\n",
    "for f in labels:\n",
    "    image=cv2.imread('test/'+f.replace('Test/',''))\n",
    "    image_from_array=Image.fromarray(image,'RGB')\n",
    "    size_image=image_from_array.resize((height,width))\n",
    "    data.append(np.array(size_image))\n",
    "X_test=np.array(data)\n",
    "X_test=X_test.astype('float32')/255\n",
    "pred=model.predict_classes(X_test)"
   ]
  },
  {
   "cell_type": "code",
   "execution_count": 15,
   "metadata": {},
   "outputs": [
    {
     "data": {
      "text/plain": [
       "0.966270783847981"
      ]
     },
     "execution_count": 15,
     "metadata": {},
     "output_type": "execute_result"
    }
   ],
   "source": [
    "from sklearn.metrics import accuracy_score\n",
    "accuracy_score(y_test,pred)"
   ]
  },
  {
   "cell_type": "code",
   "execution_count": 22,
   "metadata": {},
   "outputs": [],
   "source": [
    "from PIL import Image\n",
    "import numpy as np\n",
    "from skimage import transform\n",
    "def load(filename):\n",
    "   np_image = Image.open(filename)\n",
    "   np_image = np.array(np_image).astype('float32')/255\n",
    "   np_image = transform.resize(np_image, (32, 32, 3))\n",
    "   np_image = np.expand_dims(np_image, axis=0)\n",
    "   return np_image\n"
   ]
  },
  {
   "cell_type": "code",
   "execution_count": 27,
   "metadata": {},
   "outputs": [
    {
     "name": "stdout",
     "output_type": "stream",
     "text": [
      "And in actual data this sign means\n"
     ]
    },
    {
     "data": {
      "text/plain": [
       "<matplotlib.image.AxesImage at 0x7fc0318240b8>"
      ]
     },
     "execution_count": 27,
     "metadata": {},
     "output_type": "execute_result"
    },
    {
     "data": {
      "image/png": "[encoded data removed]",
      "text/plain": [
       "<Figure size 432x288 with 1 Axes>"
      ]
     },
     "metadata": {
      "needs_background": "light"
     },
     "output_type": "display_data"
    }
   ],
   "source": [
    "image = load('mytrafic.jpg')\n",
    "val=model.predict_classes(image)[0]\n",
    "path='Meta/{0}.png'.format(val)\n",
    "print(\"And in actual data this sign means\")\n",
    "import matplotlib.image as mpimg\n",
    "img=mpimg.imread(path)\n",
    "plt.imshow(img)"
   ]
  },
  {
   "cell_type": "code",
   "execution_count": null,
   "metadata": {},
   "outputs": [],
   "source": []
  }
 ],
 "metadata": {
  "kernelspec": {
   "display_name": "Python 3",
   "language": "python",
   "name": "python3"
  },
  "language_info": {
   "codemirror_mode": {
    "name": "ipython",
    "version": 3
   },
   "file_extension": ".py",
   "mimetype": "text/x-python",
   "name": "python",
   "nbconvert_exporter": "python",
   "pygments_lexer": "ipython3",
   "version": "3.7.3"
  }
 },
 "nbformat": 4,
 "nbformat_minor": 2
}
